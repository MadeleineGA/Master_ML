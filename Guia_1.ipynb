{
  "nbformat": 4,
  "nbformat_minor": 0,
  "metadata": {
    "colab": {
      "provenance": []
    },
    "kernelspec": {
      "name": "python3",
      "display_name": "Python 3"
    },
    "language_info": {
      "name": "python"
    }
  },
  "cells": [
    {
      "cell_type": "markdown",
      "source": [
        "##**Grupo 14: Cristian Amezquita / Madeleine Gil**"
      ],
      "metadata": {
        "id": "R00LB6RAWkNE"
      }
    },
    {
      "cell_type": "markdown",
      "source": [
        "# **Guia 1**\n",
        "**Objetivo de la actividad:** Aplicar conceptos fundamentales de programación en Python para resolver problemas de ciencia de datos. Los ejercicios propuestos abarcan uso de variables, estructuras condicionales y operaciones matemáticas en contextos aplicados.\n",
        "\n",
        "**Instrucciones Generales**\n",
        "\n",
        "Lee atentamente cada enunciado antes de empezar a programar.\n",
        "\n",
        "1. Escribe un código en Python para cada ejercicio asegurándote de que sea funcional y eficiente. \\\\\n",
        "2. Usa comentarios en el código (# comentario) para explicar brevemente qué hace cada sección. \\\\\n",
        "3. Realiza pruebas ingresando diferentes valores para verificar que los resultados sean correctos. \\\\\n",
        "4. Asegúrate de seguir las buenas prácticas de programación, incluyendo:\\\\\n",
        "\n",
        "* Uso adecuado de variables. \\\\\n",
        "* Claridad en la entrada y salida de datos. \\\\\n",
        "* Código estructurado y bien indentado. \\\\\n",
        "\n",
        "**Entrega:**\n",
        "\n",
        "Todos los programas deben estar en un solo archivo **.py o .ipynb.**\n",
        "Incluir nombre completo y código del estudiante en el encabezado del archivo.\n",
        "Enviar el archivo a la plataforma indicada antes de la fecha límite."
      ],
      "metadata": {
        "id": "04n9yDlLjw7j"
      }
    },
    {
      "cell_type": "markdown",
      "source": [
        " ### **Ejercicio 1: Cantidad de centros de atención**\n",
        "\n",
        "Suponga que una eps tiene centros de salud de 3 tipos:\n",
        "\n",
        "- Tipo A: Atiende una pobración de 6530 personas\n",
        "\n",
        "- Tipo B: Atiende una población de 8324 personas\n",
        "\n",
        "- Tipo C: Atiende una población de 11450 personas\n",
        "\n",
        "Escriba un programa que le pregunte al usuario dos combinaciones de tipos de eps, compare entre esas dos combinaciones y establezca cuál de estas es la que mayor cantidad de usuarios impacta.\n",
        "\n",
        "Ej:\n",
        "\n",
        "**Entrada:**\n",
        "\n",
        "Combinación 1: 1 centro de tipo C.\n",
        "\n",
        "Combinación 2: 2 centros de tipo A.\n",
        "\n",
        "**salida:**\n",
        "\n",
        "La combinación 2 impacta más usuarios."
      ],
      "metadata": {
        "id": "BCzM4shYiPYQ"
      }
    },
    {
      "cell_type": "code",
      "source": [
        "# Solución propuesta:\n",
        "\n",
        "# Primero se define cada centro de salud con la cantidad de personas que atiende:\n",
        "centros_salud = {\n",
        "    'A': 6530,\n",
        "    'B': 8324,\n",
        "    'C': 11450\n",
        "}\n",
        "\n",
        "# Se define una función que pueda calcular el impacto de una combinación de los centros de salud de la EPS:\n",
        "def cal_impacto(tipo, cantidad):\n",
        "    return centros_salud[tipo] * cantidad\n",
        "\n",
        "# Ahora se solicitaran los datos al usuario:\n",
        "print(\"Ingrese la primera combinación de tipos de centro de salud:\")\n",
        "tipo1 = input(\"tipo centro (A,B,C): \").strip().upper() # se utiliza strip para eliminar espacios en blanco al inicio y final, y upper para convertir a mayúsculas\n",
        "cantidad1 = int(input(\"cantidad de centros: \"))\n",
        "\n",
        "print(\"Ingrese la segunda combinación de tipos de centro de salud:\")\n",
        "tipo2 = input(\"tipo centro (A,B,C): \").strip().upper()\n",
        "cantidad2 = int(input(\"cantidad de centros: \"))\n",
        "\n",
        "# Calcular el impacto de la combinación:\n",
        "impacto1 = cal_impacto(tipo1, cantidad1)\n",
        "impacto2 = cal_impacto(tipo2, cantidad2)\n",
        "\n",
        "# Comparar los impactos y mostrar el resultado:\n",
        "if impacto1 > impacto2:\n",
        "    print(\"La combinación 1 impacta más usuarios.\")\n",
        "elif impacto1 < impacto2:\n",
        "    print(\"La combinación 2 impacta más usuarios.\")\n",
        "else:\n",
        "    print(\"Ambas combinaciones tienen el mismo impacto.\")"
      ],
      "metadata": {
        "id": "Z0-E0ZJOijcL",
        "colab": {
          "base_uri": "https://localhost:8080/"
        },
        "outputId": "a0eaae08-2a6e-40ef-b5d2-79f0e03429d6"
      },
      "execution_count": null,
      "outputs": [
        {
          "output_type": "stream",
          "name": "stdout",
          "text": [
            "Ingrese la primera combinación de tipos de centro de salud:\n",
            "tipo centro (A,B,C): c\n",
            "cantidad de centros: 1\n",
            "Ingrese la segunda combinación de tipos de centro de salud:\n",
            "tipo centro (A,B,C): a\n",
            "cantidad de centros: 2\n",
            "La combinación 2 impacta más usuarios.\n"
          ]
        }
      ]
    },
    {
      "cell_type": "markdown",
      "source": [
        "###  **Ejercicio 2: Pacientes.**\n",
        "\n",
        "Tres médicos de la misma especialidad atienden cada uno un número especifico de pacientes. Para facilitar la asignación del siguiente control, se tiene en cuenta un criterio partícular, se toma la cantidad total de pacientes atendidos y se dividen en números iguales, los cuales se reparten entre los diferentes médicos antes mencionados. Los que no quedan en ninguno de estos grupos, se asignaran a una lista de prorizados.\n",
        "\n",
        "Escriba una programa que permita ingresar el número de pacientes atendidos por cada médico y devuelva la cantidad de pacientes en la lista de priorizados.\n",
        "\n",
        "**Ej:** Si en conjunto atienten 91 pacientes, para el siguiente control, de estos cada uno atenderá 30 y 1 estará en lista de priorizados."
      ],
      "metadata": {
        "id": "Chy4z45HiSST"
      }
    },
    {
      "cell_type": "code",
      "source": [
        "# Solución propuesta\n",
        "\n",
        "# Primero se definen los conjuntos\n",
        "medico1 = int(input(\"Ingrese la cantidad de pacientes atendidos por el primer médico: \"))\n",
        "medico2 = int(input(\"Ingrese la cantidad de pacientes atendidos por el segundo médico: \"))\n",
        "medico3 = int(input(\"Ingrese la cantidad de pacientes atendidos por el tercer médico: \"))\n",
        "total_pacientes = int(input(\"Ingrese la cantidad total de pacientes atendidos: \"))\n",
        "\n",
        "# calcular cuántos pacientes puede atender cada médico\n",
        "pacientes_por_medico = total_pacientes // 3 # división\n",
        "# calcular la cantidad de pacientes en la lista de priorizados\n",
        "priorizados = total_pacientes % 3 # residuo de la división / módulo\n",
        "\n",
        "# Mostrar el resultado\n",
        "print(f\"Cada medico atenderá {pacientes_por_medico} pacientes en el siguiente control\")\n",
        "print(f\"Pacientes en la lista de priorizados: {priorizados}\")"
      ],
      "metadata": {
        "id": "QOaIAPh1iibG",
        "colab": {
          "base_uri": "https://localhost:8080/"
        },
        "outputId": "7df08cdb-5fbd-44a7-d6c1-dff9858942c2"
      },
      "execution_count": null,
      "outputs": [
        {
          "output_type": "stream",
          "name": "stdout",
          "text": [
            "Ingrese la cantidad de pacientes atendidos por el primer médico: 30\n",
            "Ingrese la cantidad de pacientes atendidos por el segundo médico: 30\n",
            "Ingrese la cantidad de pacientes atendidos por el tercer médico: 30\n",
            "Ingrese la cantidad total de pacientes atendidos: 91\n",
            "Cada medico atenderá 30 pacientes en el siguiente control\n",
            "Pacientes en la lista de priorizados: 1\n"
          ]
        }
      ]
    },
    {
      "cell_type": "markdown",
      "source": [
        "###  **Ejercicio 3: Costos de envío.**\n",
        "\n",
        "Una persona compró 3 productos en diferentes países. Los valores de envío en cada país varían de la siguiente forma: el primero tiene un costo del 15% sobre el valor original del producto. El segundo tiene un costo del 18% sobre el valor original del producto. El tercero tiene un costo del 12%  sobre el valor original del producto. Se necesita construir un programa que solicite al usuario el valor original de cada producto e imprima:\n",
        "\n",
        "* El valor total de los tres productos incluyendo los costos de envío (se debe sumar el valor de todos los productos con sus incrementos).\n",
        "* El promedio de los tres productos antes y después de realizar los incrementos\n"
      ],
      "metadata": {
        "id": "G3zPlIaaiZ17"
      }
    },
    {
      "cell_type": "code",
      "source": [
        "# Solución propuesta A:\n",
        "\n",
        "# Construir el programa para solicitar al usuario el valor original de cada producto\n",
        "\n",
        "# Solicitar al usuario el valor original\n",
        "produc1 = float(input(\"Ingrese el valor del primer producto: \"))\n",
        "produc2 = float(input(\"Ingrese el valor del segundo producto: \"))\n",
        "produc3 = float(input(\"Ingrese el valor del tercer producto: \"))\n",
        "\n",
        "# Definir los porcentajes de envío\n",
        "envio1 = produc1 * 0.15\n",
        "envio2 = produc2 * 0.18\n",
        "envio3 = produc3 * 0.12\n",
        "\n",
        "# Calcular el valor total de cada producto con el envio\n",
        "total_produc1 = produc1 + envio1\n",
        "total_produc2 = produc2 + envio2\n",
        "total_produc3 = produc3 + envio3\n",
        "\n",
        "#Calcular los valores totales\n",
        "total_con_envio = total_produc1 + total_produc2 + total_produc3\n",
        "total_sin_envio = produc1 + produc2 + produc3\n",
        "\n",
        "# Calcular el promedio antes y despues de los incrementos\n",
        "promedio_antes = (total_sin_envio) / 3\n",
        "promedio_despues = (total_con_envio) / 3\n",
        "\n",
        "# Mostrar los resultados\n",
        "print(f\"El valor total de los tres productos incluyendo los costos de envío es: {total_con_envio: .2f}\")\n",
        "print(f\"El promedio de los tres productos sin costos de envio es: {promedio_antes}\")"
      ],
      "metadata": {
        "id": "LPrnGE6OikqI",
        "colab": {
          "base_uri": "https://localhost:8080/"
        },
        "outputId": "9579a06f-c2fd-4879-e74f-06cb336392fa"
      },
      "execution_count": null,
      "outputs": [
        {
          "output_type": "stream",
          "name": "stdout",
          "text": [
            "Ingrese el valor del primer producto: 100\n",
            "Ingrese el valor del segundo producto: 200\n",
            "Ingrese el valor del tercer producto: 300\n",
            "El valor total de los tres productos incluyendo los costos de envío es:  687.00\n",
            "El promedio de los tres productos sin costos de envio es: 200.0\n"
          ]
        }
      ]
    },
    {
      "cell_type": "markdown",
      "source": [
        "###  **Ejercicio 4: Estado.**\n",
        "\n",
        "Teniendo en cuenta los siguientes valores considerados como normales. Escriba un programa que solicite cada dato a un paciente partícular y muestre si el paciente esta en rangos normales o no.\n",
        "\n",
        "|Variable|Rango|Status|\n",
        "|---|---|---|\n",
        "|IMC|22,1 - 24,9| Normal|\n",
        "|Frecuencia Cardíaca|<70|Muy buena|\n",
        "|Presión Arterial|80 - 120|Normal|\n",
        "|Saturación de oxigeno|>95|Normal|\n"
      ],
      "metadata": {
        "id": "ET6Mpc4-ib1i"
      }
    },
    {
      "cell_type": "code",
      "source": [
        "# Solución propuesta A\n",
        "\n",
        "# Programa para validar si un paciente está en rangos normales de salud\n",
        "\n",
        "# Primero se solicitaran los datos al paciente\n",
        "imc = float(input(\"Ingrese el IMC del paciente: \"))\n",
        "frecuencia_cardiaca = int(input(\"Ingrese la frecuencia cardíaca del paciente: \"))\n",
        "presion_arterial = int(input(\"Ingrese la presión arterial del paciente: \"))\n",
        "saturacion_oxigeno = int(input(\"Ingrese la saturación de oxígeno del paciente: \"))\n",
        "\n",
        "# Evaluación de los rangos y determinar el estado del paciente\n",
        "estado_imc = \"Normal\" if 22.1 <= imc <= 24.9 else \"Fuera de rango\"\n",
        "estado_fc = \"Muy buena\" if frecuencia_cardiaca < 70 else \"Fuera de rango\"\n",
        "estado_pa = \"Normal\" if 80 <= presion_arterial <= 120 else \"Fuera de rango\"\n",
        "estado_so = \"Normal\" if saturacion_oxigeno > 95 else \"Fuera de rango\"\n",
        "\n",
        "# Presentación de los resultados\n",
        "\n",
        "print(\"\\nEstado del paciente:\")\n",
        "print(f\"IMC: {imc} - {estado_imc}\")\n",
        "print(f\"Frecuencia cardíaca: {frecuencia_cardiaca} - {estado_fc}\")\n",
        "print(f\"Presión arterial: {presion_arterial} - {estado_pa}\")\n",
        "print(f\"Saturación de oxígeno: {saturacion_oxigeno} - {estado_so}\")"
      ],
      "metadata": {
        "id": "ByDPN73_ilNg",
        "colab": {
          "base_uri": "https://localhost:8080/"
        },
        "outputId": "b0838c60-a00f-42cc-d11a-34a0f35166c5"
      },
      "execution_count": null,
      "outputs": [
        {
          "output_type": "stream",
          "name": "stdout",
          "text": [
            "Ingrese el IMC del paciente: 25\n",
            "Ingrese la frecuencia cardíaca del paciente: 56\n",
            "Ingrese la presión arterial del paciente: 70\n",
            "Ingrese la saturación de oxígeno del paciente: 90\n",
            "\n",
            "Estado del paciente:\n",
            "IMC: 25.0 - Fuera de rango\n",
            "Frecuencia cardíaca: 56 - Muy buena\n",
            "Presión arterial: 70 - Fuera de rango\n",
            "Saturación de oxígeno: 90 - Fuera de rango\n"
          ]
        }
      ]
    },
    {
      "cell_type": "code",
      "source": [
        "# Solucion propuesta B\n",
        "\n",
        "# Programa para validar si un paciente está en rangos normales de salud\n",
        "\n",
        "# Primero se solicitaran los datos al paciente\n",
        "imc = float(input(\"Ingrese el IMC del paciente: \"))\n",
        "frecuencia_cardiaca = int(input(\"Ingrese la frecuencia cardíaca del paciente: \"))\n",
        "presion_arterial = int(input(\"Ingrese la presión arterial del paciente: \"))\n",
        "saturacion_oxigeno = int(input(\"Ingrese la saturación de oxígeno del paciente: \"))\n",
        "\n",
        "# Impresión datos del paciente:\n",
        "print(\"Estado del paciente:\")\n",
        "\n",
        "# Se evalua condición del IMC e imprime resultado:\n",
        "if 22.1 <= imc <= 24.9:\n",
        "    print(f\"IMC: {imc} - Bueno\")\n",
        "else:\n",
        "    print(f\"IMC: {imc} - Anormal\")\n",
        "\n",
        "# Se evalua condición de la frecuiencia cardiaca e imprime resultado:\n",
        "if  frecuencia_cardiaca < 70:\n",
        "    print(f\"Frecuencia cardíaca: {frecuencia_cardiaca} Muy buena\")\n",
        "else:\n",
        "    print(f\"Frecuencia cardíaca: {frecuencia_cardiaca} Anormal\")\n",
        "\n",
        "# Se evalua condición de la presión arterial e imprime resultado:\n",
        "if presion_arterial >= 80 or presion_arterial <= 120:\n",
        "    print(f\"Presión arterial: {presion_arterial} Normal\")\n",
        "else:\n",
        "    print(f\"Presión arterial: {presion_arterial} Anormal\")\n",
        "\n",
        "# Se evalua condición de la saturación de oxígeno e imprime resultado:\n",
        "if saturacion_oxigeno > 95:\n",
        "    print(f\"Saturación de oxígeno: {saturacion_oxigeno} - Normal\")\n",
        "else:\n",
        "    print(f\"Saturación de oxígeno: {saturacion_oxigeno} - Anormal\")"
      ],
      "metadata": {
        "id": "AeX_aIOcDjr1"
      },
      "execution_count": null,
      "outputs": []
    },
    {
      "cell_type": "markdown",
      "source": [
        "### **Ejercicio 5: Determinar el cuadrante**\n",
        "\n",
        "Suponga que despues de realizar una encuesta sobre la visión política y económica a diferentes ciudadanos, se obtienen dos valores que varían entre -50 y 50. El primero, eje horizontal, hace referencia a la tendencia política y el segundo a su visión económica. Contruya un programa que al leer estás dos opuntuaciones determine en que cuadrante se encuentra la persona teniendo como referencia el siguiente gráfico:\n",
        "\n",
        "<img src=\"https://upload.wikimedia.org/wikipedia/commons/thumb/c/cc/Political_chart_ES_yLR.svg/1200px-Political_chart_ES_yLR.svg.png\" alt=\"Political Chart\" width=\"600\" height=\"400\">\n",
        "\n",
        "\n",
        "Fuente: https://upload.wikimedia.org/wikipedia/commons/thumb/c/cc/Political_chart_ES_yLR.svg/1200px-Political_chart_ES_yLR.svg.png"
      ],
      "metadata": {
        "id": "etZT_-XqigvW"
      }
    },
    {
      "cell_type": "code",
      "source": [
        "# Solución propuesta\n",
        "\n",
        "# Determinación del cuadrante de los ciudadanos a partir de los resultados de una encuesta\n",
        "\n",
        "# Valores de referencia\n",
        "ten_politica = int(input(\"Ingrese el valor de la tendencia política (-50 a 50): \"))\n",
        "vis_economica = int(input(\"Ingrese el valor de la visión económica (-50 a 50): \"))\n",
        "\n",
        "# Determinación de los cuadrantes\n",
        "if ten_politica > 0 and vis_economica > 0:\n",
        "    cuadrante = \"Cuadrante I (Derecha - Autoritaria)\"\n",
        "elif ten_politica < 0 and vis_economica > 0:\n",
        "    cuadrante = \"Cuadrante II (Izquierda - Autoritaria)\"\n",
        "elif ten_politica < 0 and vis_economica < 0:\n",
        "    cuadrante = \"Cuadrante III (Izquierda - Libertaria)\"\n",
        "elif ten_politica > 0 and vis_economica < 0:\n",
        "    cuadrante = \"Cuadrante IV (Derecha - Libertaria)\"\n",
        "else:\n",
        "    cuadrante = \"No se puede determinar el cuadrante\"\n",
        "\n",
        "# Mostrar el resultado\n",
        "\n",
        "print(f\"El ciudadano se encuentra en: {cuadrante}\")"
      ],
      "metadata": {
        "id": "SzBct6MxitlY",
        "colab": {
          "base_uri": "https://localhost:8080/"
        },
        "outputId": "ff9af87d-2416-4fdb-9821-a4cad27ce343"
      },
      "execution_count": null,
      "outputs": [
        {
          "output_type": "stream",
          "name": "stdout",
          "text": [
            "Ingrese el valor de la tendencia política (-50 a 50): 25\n",
            "Ingrese el valor de la visión económica (-50 a 50): -80\n",
            "El ciudadano se encuentra en: Cuadrante IV (Derecha - Libertaria)\n"
          ]
        }
      ]
    },
    {
      "cell_type": "markdown",
      "source": [
        "### __Ejercicio 6: crecimiento poblacional__\n",
        "\n",
        "En 2024 el país A tendrá una población de 25 millones de habitantes y el país B de 18.9 millones. Las tasas de crecimiento anual de la población serán de 2% y 3% respectivamente. Desarrollar un algoritmo para informar en que año la población del país B superar ́a la de A."
      ],
      "metadata": {
        "id": "jNyyUIgXXHqJ"
      }
    },
    {
      "cell_type": "code",
      "source": [
        "# Solución propuesta\n",
        "\n",
        "# Incluir la información de los paises\n",
        "pais_A = 25000000 # 25 millones habitantes\n",
        "pais_B = 18900000 # 18.9 millones habitantes\n",
        "tasa_A = 0.02 # 2% tasa crecimiento\n",
        "tasa_B = 0.03 # 3% tasa crecimiento\n",
        "año = 2024\n",
        "\n",
        "# Construcción del bucle para saber cuando la población del páis B superará a la del país A\n",
        "while pais_B <= pais_A:\n",
        "    pais_A += pais_A * tasa_A\n",
        "    pais_B += pais_B * tasa_B\n",
        "    año += 1\n",
        "\n",
        "# Mostrar el resultado\n",
        "print(f\"En el año {año} la población del país B superará a la del país A.\")"
      ],
      "metadata": {
        "id": "cQj1jM0xXZKv",
        "colab": {
          "base_uri": "https://localhost:8080/"
        },
        "outputId": "cc1f4ca1-c036-4d38-df92-cd0d91afc383"
      },
      "execution_count": null,
      "outputs": [
        {
          "output_type": "stream",
          "name": "stdout",
          "text": [
            "En el año 2053 la población del país B superará a la del país A.\n"
          ]
        }
      ]
    },
    {
      "cell_type": "markdown",
      "source": [
        "### __Ejercicio 7: calificación examen__\n",
        "Un estudiante que se presento a la Universidad de Cataluña, desea saber cual es el puntaje total de su examen de ingreso teniendo en cuenta la siguiente información:\n",
        "\n",
        "La prueba tenia un total de 25 preguntas, que tenían los siguientes valores de calificación:\n",
        "\n",
        "* Los ejercicios tenían un valor del 4 putos\n",
        "\n",
        "* Las preguntas un valor de 2.5 puntos.\n",
        "\n",
        "El estudiante tiene la siguiente información de los resultados de la prueba:\n",
        "\n",
        "Numero de preguntas que respondió: 15\n",
        "\n",
        "Numero de preguntas que respondió correctas: 12\n",
        "\n",
        "Numero de ejercicios que respondió: 10\n",
        "\n",
        "Numero de ejercicios que respondió correctos 6\n",
        "\n",
        "Realice un código que determine el puntaje total de la prueba que presento."
      ],
      "metadata": {
        "id": "yedsqyk1Xans"
      }
    },
    {
      "cell_type": "code",
      "source": [
        "# Solución propuesta A:\n",
        "\n",
        "# Programa para determinar el puntaje total de la prueba presentada por el estudiante\n",
        "\n",
        "# definir los valores de calificación\n",
        "val_pregunta = 2.5\n",
        "val_ejercicio = 4\n",
        "\n",
        "# información del estudiante\n",
        "preg_contestadas = 15\n",
        "ejer_contestados = 10\n",
        "\n",
        "preg_correctas = 12\n",
        "ejer_correctos = 6\n",
        "\n",
        "# Calcular el puntaje total\n",
        "puntaje_preg = preg_correctas * val_pregunta\n",
        "puntaje_ejer = ejer_correctos * val_ejercicio\n",
        "puntaje_total = puntaje_preg + puntaje_ejer\n",
        "\n",
        "# Mostrar el puntaje total\n",
        "print(f\"El puntaje total de la prueba es: {puntaje_total}\")"
      ],
      "metadata": {
        "id": "KexR2OGWX95S",
        "colab": {
          "base_uri": "https://localhost:8080/"
        },
        "outputId": "c6d82a85-c87c-4e4a-9f11-f288670f7f2b"
      },
      "execution_count": null,
      "outputs": [
        {
          "output_type": "stream",
          "name": "stdout",
          "text": [
            "El puntaje total de la prueba es: 54.0\n"
          ]
        }
      ]
    },
    {
      "cell_type": "code",
      "source": [
        "# Solución propuesta B:\n",
        "\n",
        "# Programa para determinar el puntaje total de la prueba presentada por el estudiante\n",
        "\n",
        "# definir los valores de calificación\n",
        "val_pregunta = 2.5\n",
        "val_ejercicio = 4\n",
        "\n",
        "# información del estudiante (asumiendo que solo serán computables las respuestas correctas)\n",
        "preg_correctas = int(input(\"Ingrese el número de preguntas correctas: \"))\n",
        "ejer_correctos = int(input(\"Ingrese el número de ejercicios correctos: \"))\n",
        "\n",
        "# Calcular el puntaje total\n",
        "puntaje_preg = preg_correctas * val_pregunta\n",
        "puntaje_ejer = ejer_correctos * val_ejercicio\n",
        "puntaje_total = puntaje_preg + puntaje_ejer\n",
        "\n",
        "# Mostrar el puntaje total\n",
        "print(f\"El puntaje total de la prueba es: {puntaje_total}\")"
      ],
      "metadata": {
        "colab": {
          "base_uri": "https://localhost:8080/"
        },
        "id": "6N1W0UtIME0m",
        "outputId": "dcec7579-2aed-40b8-89eb-7bd081289537"
      },
      "execution_count": null,
      "outputs": [
        {
          "output_type": "stream",
          "name": "stdout",
          "text": [
            "Ingrese el número de preguntas correctas: 12\n",
            "Ingrese el número de ejercicios correctos: 6\n",
            "El puntaje total de la prueba es: 54.0\n"
          ]
        }
      ]
    },
    {
      "cell_type": "markdown",
      "source": [
        "### __Ejercicio 8: concesionario__\n",
        "\n",
        "Realice un código que me permita almacenar la información de un concesionario. La idea es que por consola me solicite el año del carro en el que estoy interesado, el color, y marca. El programa deberá mostrarme por consola, una cotización del carro en el que estoy interesado.\n",
        "\n",
        "De esta forma, la cotización deberá mostrar el nombre de la persona que esta interesado en el carro y los datos de carro: año, color, marca y precio antes del incremento y precio después del incremento.  \n",
        "\n",
        "Para calcular el precio del carro deberá tener en cuenta las siguientes condiciones:\n",
        "\n",
        "1. Si el carro es un modelo del 2000 para atrás e incluyendo el año, se deberá incrementar el 10% sobre el valor seleccionado (el valor debe ponerlo usted)\n",
        "\n",
        "2. Si el carro es modelo 2001 o superior, deberá incrementar su tamaño el 20% sobre el valor seleccionado (el valor debe ponerlo usted)"
      ],
      "metadata": {
        "id": "W4QwLNk2YDhY"
      }
    },
    {
      "cell_type": "code",
      "source": [
        "# Solución propuesta\n",
        "\n",
        "# Programa para realizar una cotización en un concesionario\n",
        "\n",
        "# Información del usuario que solicita la cotización\n",
        "nombre = input(\"Ingrese su nombre: \")\n",
        "anno = int(input(\"Ingrese el año del carro en el que está interesado: \"))\n",
        "color = input(\"Ingrese el color del carro: \")\n",
        "marca = input(\"Ingrese la marca del carro: \")\n",
        "precio_inicial = float(input(\"Ingrese el precio base del carro: \"))\n",
        "\n",
        "# Determinar el incremento segun el año del carro\n",
        "if anno <= 2000:\n",
        "    incremento = 0.10 # 10% de incremento\n",
        "else:\n",
        "    incremento = 0.20 # 20% de incremento\n",
        "\n",
        "# Calcular el precio final\n",
        "precio_final = precio_inicial * (1 + incremento)\n",
        "\n",
        "# Mostrar la cotización\n",
        "print(\"\\nCotización del carro:\")\n",
        "print(f\"Nombre: {nombre}\")\n",
        "print(f\"Año del carro: {anno}\")\n",
        "print(f\"Color: {color}\")\n",
        "print(f\"Marca: {marca}\")\n",
        "print(f\"Precio antes del incremento: {precio_inicial:.2f}\")\n",
        "print(f\"Precio final (con incremento): {precio_final:.2f}\")"
      ],
      "metadata": {
        "id": "NHp6V53iYa29",
        "colab": {
          "base_uri": "https://localhost:8080/"
        },
        "outputId": "6f4e7384-2d0c-4d4f-82e0-9813137104eb"
      },
      "execution_count": null,
      "outputs": [
        {
          "output_type": "stream",
          "name": "stdout",
          "text": [
            "Ingrese su nombre: Madeleine\n",
            "Ingrese el año del carro en el que está interesado: 2000\n",
            "Ingrese el color del carro: Negro\n",
            "Ingrese la marca del carro: Toyota\n",
            "Ingrese el precio base del carro: 10000000\n",
            "\n",
            "Cotización del carro:\n",
            "Nombre: Madeleine\n",
            "Año del carro: 2000\n",
            "Color: Negro\n",
            "Marca: Toyota\n",
            "Precio antes del incremento: 10000000.00\n",
            "Precio final (con incremento): 11000000.00\n"
          ]
        }
      ]
    },
    {
      "cell_type": "markdown",
      "source": [
        "### __Ejercicio 9: sucesión de Fibonacci__\n",
        "En matemática, la sucesión de Fibonacci se trata de una serie infinita de números naturales que empieza con un 0 y un 1 y continúa añadiendo números que son la suma de los dos anteriores. Ejemplo: 0, 1, 1, 2, 3, 5, 8, 13, 21, 34, 55, 89, 144, 233, 377, 610, 987, 1597\n",
        "\n",
        "Realice un código que permita hacer obtener la sucesión de fibonacci. El programa debe solicitar el numero en que la serie debe parar  y de esa forma ver los números de la serie en consola."
      ],
      "metadata": {
        "id": "KdFEqb2SYwHG"
      }
    },
    {
      "cell_type": "code",
      "source": [
        "# Solución propuesta\n",
        "\n",
        "# Código para obtener la sucesión de Fibonacci\n",
        "\n",
        "# Solicitar al usuario el número limite\n",
        "num_limite = int(input(\"ingrese le número en que la serie debe parar: \"))\n",
        "\n",
        "# Iniciar los primeros términos de la sucesión\n",
        "a, b = 0, 1\n",
        "\n",
        "# Mostrar la sucesión de Fibonacci\n",
        "print(\"Sucesión de Fibonacci:\")\n",
        "while a <= num_limite:\n",
        "    print(a, end=\", \")\n",
        "    a, b = b, a + b"
      ],
      "metadata": {
        "id": "3E84wlAoYv3t",
        "colab": {
          "base_uri": "https://localhost:8080/"
        },
        "outputId": "af7e9a6c-2d05-4774-ebec-d390bb3e1dcd"
      },
      "execution_count": null,
      "outputs": [
        {
          "output_type": "stream",
          "name": "stdout",
          "text": [
            "ingrese le número en que la serie debe parar: 1597\n",
            "Sucesión de Fibonacci:\n",
            "0, 1, 1, 2, 3, 5, 8, 13, 21, 34, 55, 89, 144, 233, 377, 610, 987, 1597, "
          ]
        }
      ]
    }
  ]
}